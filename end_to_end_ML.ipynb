{
 "cells": [
  {
   "cell_type": "markdown",
   "id": "ae303583-04e3-4400-b326-b04b83167980",
   "metadata": {},
   "source": [
    "<span style=\"font-size: 40px; color: red\">Wine Quality Prediction using regression model</span>\n",
    "\n",
    "<span style=\"font-size: 40px; color: orange\">Objective:</span>\n",
    "* Develop a machine learning model that predicts the quality of wine based on its chemical attributes.\n",
    "\n",
    "* Two datasets are included, related to red and white vinho verde wine samples, from the north of Portugal.\n",
    "* The goal is to model wine quality based on physicochemical tests\n",
    "(see [Cortez et al., 2009], http://www3.dsi.uminho.pt/pcortez/wine/).\n",
    "\n"
   ]
  },
  {
   "cell_type": "code",
   "execution_count": null,
   "id": "cc86b241-b2fe-4537-b3fb-9216f4d89020",
   "metadata": {},
   "outputs": [],
   "source": []
  },
  {
   "cell_type": "markdown",
   "id": "9cfba430-1092-42ca-bd98-50784bd8fdc1",
   "metadata": {},
   "source": [
    "<span style=\"font-size: 30px; color: green\">Import Libraries</span>"
   ]
  },
  {
   "cell_type": "code",
   "execution_count": 18,
   "id": "a38345fd-ce37-448e-8f16-b3222c89dfcb",
   "metadata": {},
   "outputs": [],
   "source": [
    "import pandas as pd\n",
    "from sklearn.preprocessing import StandardScaler\n",
    "from sklearn.model_selection import train_test_split, GridSearchCV, RandomizedSearchCV\n",
    "from sklearn.linear_model import LinearRegression, Lasso, Ridge\n",
    "from sklearn.svm import SVR\n",
    "from sklearn.tree import DecisionTreeRegressor\n",
    "from sklearn.ensemble import RandomForestRegressor\n",
    "from sklearn.metrics import mean_squared_error, mean_absolute_error, r2_score\n"
   ]
  },
  {
   "cell_type": "code",
   "execution_count": null,
   "id": "891b6f70-3b5e-42da-b148-772363f99804",
   "metadata": {},
   "outputs": [],
   "source": []
  },
  {
   "cell_type": "markdown",
   "id": "8fcff5e2-98b9-4797-a6eb-f21a4c1276ee",
   "metadata": {},
   "source": [
    "<span style=\"font-size: 30px; color: green\">Load the Datasets</span>"
   ]
  },
  {
   "cell_type": "code",
   "execution_count": 2,
   "id": "a8853891-a5bb-47c7-bf33-5e22428a5dc2",
   "metadata": {},
   "outputs": [],
   "source": [
    "# Red wine dataset\n",
    "red_df = pd.read_csv(\"winequality-red.csv\", sep=\";\")\n",
    "\n",
    "# white Wine dataset\n",
    "white_df = pd.read_csv(\"winequality-white.csv\", sep=\";\")"
   ]
  },
  {
   "cell_type": "code",
   "execution_count": null,
   "id": "261ea721-dd06-4d8e-aad2-4ab4194772d5",
   "metadata": {},
   "outputs": [],
   "source": []
  },
  {
   "cell_type": "markdown",
   "id": "3f88a936-0d69-42a1-bdaf-0b70e47c7e48",
   "metadata": {},
   "source": [
    "<span style=\"font-size: 30px; color: green\">Data Preprocessing</span>"
   ]
  },
  {
   "cell_type": "markdown",
   "id": "bfd851cc-be5d-4dbb-98d4-ff508974c2f4",
   "metadata": {},
   "source": [
    "<span style=\"font-size: 20px; color: blue\">Handling Missing data</span>"
   ]
  },
  {
   "cell_type": "code",
   "execution_count": 3,
   "id": "a2e45939-3549-4e61-afd0-0131085737a6",
   "metadata": {},
   "outputs": [
    {
     "name": "stdout",
     "output_type": "stream",
     "text": [
      "<class 'pandas.core.frame.DataFrame'>\n",
      "RangeIndex: 1599 entries, 0 to 1598\n",
      "Data columns (total 12 columns):\n",
      " #   Column                Non-Null Count  Dtype  \n",
      "---  ------                --------------  -----  \n",
      " 0   fixed acidity         1599 non-null   float64\n",
      " 1   volatile acidity      1599 non-null   float64\n",
      " 2   citric acid           1599 non-null   float64\n",
      " 3   residual sugar        1599 non-null   float64\n",
      " 4   chlorides             1599 non-null   float64\n",
      " 5   free sulfur dioxide   1599 non-null   float64\n",
      " 6   total sulfur dioxide  1599 non-null   float64\n",
      " 7   density               1599 non-null   float64\n",
      " 8   pH                    1599 non-null   float64\n",
      " 9   sulphates             1599 non-null   float64\n",
      " 10  alcohol               1599 non-null   float64\n",
      " 11  quality               1599 non-null   int64  \n",
      "dtypes: float64(11), int64(1)\n",
      "memory usage: 150.0 KB\n"
     ]
    }
   ],
   "source": [
    "red_df.info()"
   ]
  },
  {
   "cell_type": "code",
   "execution_count": 4,
   "id": "bf28445e-3f23-4e75-b406-aee3bd0c19d7",
   "metadata": {},
   "outputs": [
    {
     "name": "stdout",
     "output_type": "stream",
     "text": [
      "<class 'pandas.core.frame.DataFrame'>\n",
      "RangeIndex: 4898 entries, 0 to 4897\n",
      "Data columns (total 12 columns):\n",
      " #   Column                Non-Null Count  Dtype  \n",
      "---  ------                --------------  -----  \n",
      " 0   fixed acidity         4898 non-null   float64\n",
      " 1   volatile acidity      4898 non-null   float64\n",
      " 2   citric acid           4898 non-null   float64\n",
      " 3   residual sugar        4898 non-null   float64\n",
      " 4   chlorides             4898 non-null   float64\n",
      " 5   free sulfur dioxide   4898 non-null   float64\n",
      " 6   total sulfur dioxide  4898 non-null   float64\n",
      " 7   density               4898 non-null   float64\n",
      " 8   pH                    4898 non-null   float64\n",
      " 9   sulphates             4898 non-null   float64\n",
      " 10  alcohol               4898 non-null   float64\n",
      " 11  quality               4898 non-null   int64  \n",
      "dtypes: float64(11), int64(1)\n",
      "memory usage: 459.3 KB\n"
     ]
    }
   ],
   "source": [
    "white_df.info()"
   ]
  },
  {
   "cell_type": "code",
   "execution_count": null,
   "id": "61c5f2c8-7c0e-4073-84a3-b0f5e2c6b85f",
   "metadata": {},
   "outputs": [],
   "source": []
  },
  {
   "cell_type": "markdown",
   "id": "49a0ef87-6044-42a4-a08b-9c02ea65d5c9",
   "metadata": {},
   "source": [
    "<span style=\"font-size: 20px; color: blue\">Feature Scaling</span>"
   ]
  },
  {
   "cell_type": "code",
   "execution_count": 5,
   "id": "76482dd6-405f-4d4d-aba2-a52a484cbda9",
   "metadata": {},
   "outputs": [],
   "source": [
    "scaler = StandardScaler()\n",
    "# red wine\n",
    "red_df = pd.DataFrame(scaler.fit_transform(red_df), columns=red_df.columns)\n",
    "# white wine\n",
    "white_df = pd.DataFrame(scaler.fit_transform(white_df), columns=white_df.columns)"
   ]
  },
  {
   "cell_type": "code",
   "execution_count": null,
   "id": "99406e6a-adcb-42e6-acea-0c117df2c261",
   "metadata": {},
   "outputs": [],
   "source": []
  },
  {
   "cell_type": "markdown",
   "id": "b4c3997f-0c5e-426b-bff4-015f38d12460",
   "metadata": {},
   "source": [
    "<span style=\"font-size: 30px; color: green\">Data Splitting</span>"
   ]
  },
  {
   "cell_type": "code",
   "execution_count": 6,
   "id": "41d4cfa8-5f3d-4516-9600-6a40499f510f",
   "metadata": {},
   "outputs": [
    {
     "data": {
      "text/html": [
       "<div>\n",
       "<style scoped>\n",
       "    .dataframe tbody tr th:only-of-type {\n",
       "        vertical-align: middle;\n",
       "    }\n",
       "\n",
       "    .dataframe tbody tr th {\n",
       "        vertical-align: top;\n",
       "    }\n",
       "\n",
       "    .dataframe thead th {\n",
       "        text-align: right;\n",
       "    }\n",
       "</style>\n",
       "<table border=\"1\" class=\"dataframe\">\n",
       "  <thead>\n",
       "    <tr style=\"text-align: right;\">\n",
       "      <th></th>\n",
       "      <th>fixed acidity</th>\n",
       "      <th>volatile acidity</th>\n",
       "      <th>citric acid</th>\n",
       "      <th>residual sugar</th>\n",
       "      <th>chlorides</th>\n",
       "      <th>free sulfur dioxide</th>\n",
       "      <th>total sulfur dioxide</th>\n",
       "      <th>density</th>\n",
       "      <th>pH</th>\n",
       "      <th>sulphates</th>\n",
       "      <th>alcohol</th>\n",
       "      <th>quality</th>\n",
       "    </tr>\n",
       "  </thead>\n",
       "  <tbody>\n",
       "    <tr>\n",
       "      <th>0</th>\n",
       "      <td>-0.528360</td>\n",
       "      <td>0.961877</td>\n",
       "      <td>-1.391472</td>\n",
       "      <td>-0.453218</td>\n",
       "      <td>-0.243707</td>\n",
       "      <td>-0.466193</td>\n",
       "      <td>-0.379133</td>\n",
       "      <td>0.558274</td>\n",
       "      <td>1.288643</td>\n",
       "      <td>-0.579207</td>\n",
       "      <td>-0.960246</td>\n",
       "      <td>-0.787823</td>\n",
       "    </tr>\n",
       "    <tr>\n",
       "      <th>1</th>\n",
       "      <td>-0.298547</td>\n",
       "      <td>1.967442</td>\n",
       "      <td>-1.391472</td>\n",
       "      <td>0.043416</td>\n",
       "      <td>0.223875</td>\n",
       "      <td>0.872638</td>\n",
       "      <td>0.624363</td>\n",
       "      <td>0.028261</td>\n",
       "      <td>-0.719933</td>\n",
       "      <td>0.128950</td>\n",
       "      <td>-0.584777</td>\n",
       "      <td>-0.787823</td>\n",
       "    </tr>\n",
       "    <tr>\n",
       "      <th>2</th>\n",
       "      <td>-0.298547</td>\n",
       "      <td>1.297065</td>\n",
       "      <td>-1.186070</td>\n",
       "      <td>-0.169427</td>\n",
       "      <td>0.096353</td>\n",
       "      <td>-0.083669</td>\n",
       "      <td>0.229047</td>\n",
       "      <td>0.134264</td>\n",
       "      <td>-0.331177</td>\n",
       "      <td>-0.048089</td>\n",
       "      <td>-0.584777</td>\n",
       "      <td>-0.787823</td>\n",
       "    </tr>\n",
       "  </tbody>\n",
       "</table>\n",
       "</div>"
      ],
      "text/plain": [
       "   fixed acidity  volatile acidity  citric acid  residual sugar  chlorides  \\\n",
       "0      -0.528360          0.961877    -1.391472       -0.453218  -0.243707   \n",
       "1      -0.298547          1.967442    -1.391472        0.043416   0.223875   \n",
       "2      -0.298547          1.297065    -1.186070       -0.169427   0.096353   \n",
       "\n",
       "   free sulfur dioxide  total sulfur dioxide   density        pH  sulphates  \\\n",
       "0            -0.466193             -0.379133  0.558274  1.288643  -0.579207   \n",
       "1             0.872638              0.624363  0.028261 -0.719933   0.128950   \n",
       "2            -0.083669              0.229047  0.134264 -0.331177  -0.048089   \n",
       "\n",
       "    alcohol   quality  \n",
       "0 -0.960246 -0.787823  \n",
       "1 -0.584777 -0.787823  \n",
       "2 -0.584777 -0.787823  "
      ]
     },
     "execution_count": 6,
     "metadata": {},
     "output_type": "execute_result"
    }
   ],
   "source": [
    "red_df.head(3)"
   ]
  },
  {
   "cell_type": "code",
   "execution_count": 7,
   "id": "096114ff-0f66-4a56-a7b5-647ba12ea4d4",
   "metadata": {},
   "outputs": [],
   "source": [
    "# Red wine\n",
    "X_red = red_df.drop([\"quality\"], axis=1)\n",
    "y_red = red_df[\"quality\"]\n",
    "X_trainr, X_testr, y_trainr, y_testr = train_test_split(X_red, y_red, test_size=0.2, random_state=42)"
   ]
  },
  {
   "cell_type": "code",
   "execution_count": 8,
   "id": "1e7ce0dd-a691-404d-976b-a10a192d1fc1",
   "metadata": {},
   "outputs": [],
   "source": [
    "# White wine\n",
    "X_wh = white_df.drop([\"quality\"], axis=1)\n",
    "y_wh = white_df[\"quality\"]\n",
    "X_trainw, X_testw, y_trainw, y_testw = train_test_split(X_wh, y_wh, test_size=0.2, random_state=42)"
   ]
  },
  {
   "cell_type": "code",
   "execution_count": null,
   "id": "35ec25cc-7e37-450f-a377-fead4db30847",
   "metadata": {},
   "outputs": [],
   "source": []
  },
  {
   "cell_type": "markdown",
   "id": "c68728cb-ad72-4813-b7d9-a1ee78270350",
   "metadata": {},
   "source": [
    "<span style=\"font-size: 30px; color: green\">Model Training and Evaluation</span>"
   ]
  },
  {
   "cell_type": "code",
   "execution_count": 19,
   "id": "6ba73e41-cf2f-4022-9822-17bfe742279c",
   "metadata": {},
   "outputs": [
    {
     "name": "stdout",
     "output_type": "stream",
     "text": [
      "Linear Regression:\n",
      "   R^2 Score: 0.4032\n",
      "   MSE: 0.5984\n",
      "   RMSE: 0.7736\n",
      "   MAE: 0.6237\n",
      "Ridge Regression:\n",
      "   R^2 Score: 0.4032\n",
      "   MSE: 0.5984\n",
      "   RMSE: 0.7736\n",
      "   MAE: 0.6237\n",
      "Lasso Regression:\n",
      "   R^2 Score: -0.0056\n",
      "   MSE: 1.0083\n",
      "   RMSE: 1.0041\n",
      "   MAE: 0.8488\n",
      "support Vector Regression:\n",
      "   R^2 Score: 0.4584\n",
      "   MSE: 0.5430\n",
      "   RMSE: 0.7369\n",
      "   MAE: 0.5640\n",
      "Decision Tree Regression:\n",
      "   R^2 Score: 0.0532\n",
      "   MSE: 0.9494\n",
      "   RMSE: 0.9743\n",
      "   MAE: 0.5806\n",
      "Random Forest Regression:\n",
      "   R^2 Score: 0.5163\n",
      "   MSE: 0.4850\n",
      "   RMSE: 0.6964\n",
      "   MAE: 0.5329\n"
     ]
    }
   ],
   "source": [
    "# Red wine\n",
    "r_models = {\n",
    "    \"Linear Regression\": LinearRegression(),\n",
    "    \"Ridge Regression\": Ridge(),\n",
    "    \"Lasso Regression\": Lasso(),\n",
    "    \"support Vector Regression\": SVR(),\n",
    "    \"Decision Tree Regression\": DecisionTreeRegressor(),\n",
    "    \"Random Forest Regression\": RandomForestRegressor()\n",
    "}\n",
    "\n",
    "def evaluate_model(model, features, target):\n",
    "    predictions = model.predict(features)\n",
    "    mse = mean_squared_error(target, predictions)\n",
    "    rmse = mse ** 0.5\n",
    "    mae = mean_absolute_error(target, predictions)\n",
    "    r2 = r2_score(target, predictions)\n",
    "    return mse, rmse, mae, r2\n",
    "\n",
    "for name, model in r_models.items():\n",
    "    model.fit(X_trainr, y_trainr)\n",
    "    mse, rmse, mae, r2 = evaluate_model(model, X_testr, y_testr)\n",
    "    \n",
    "    print(f\"{name}:\")\n",
    "    print(f\"   R^2 Score: {r2:.4f}\")\n",
    "    print(f\"   MSE: {mse:.4f}\")\n",
    "    print(f\"   RMSE: {rmse:.4f}\")\n",
    "    print(f\"   MAE: {mae:.4f}\")\n",
    "\n",
    "# MSE closer to 0 means perfect prediction\n",
    "# MAE Closer to 0 means perfect prediction of the model\n",
    "# R Squared when score is 1, it indicates that the model's predictions perfectly match the actual values in the dataset"
   ]
  },
  {
   "cell_type": "code",
   "execution_count": null,
   "id": "6f101e2a-cb00-42a3-9f52-315d0e48c458",
   "metadata": {},
   "outputs": [],
   "source": []
  },
  {
   "cell_type": "code",
   "execution_count": 20,
   "id": "75069dae-2957-49cd-bfdd-22428297a5df",
   "metadata": {},
   "outputs": [
    {
     "name": "stdout",
     "output_type": "stream",
     "text": [
      "Linear Regression:\n",
      "   R^2 Score: 0.2653\n",
      "   MSE: 0.7256\n",
      "   RMSE: 0.8518\n",
      "   MAE: 0.6620\n",
      "Ridge Regression:\n",
      "   R^2 Score: 0.2652\n",
      "   MSE: 0.7257\n",
      "   RMSE: 0.8519\n",
      "   MAE: 0.6621\n",
      "Lasso Regression:\n",
      "   R^2 Score: -0.0014\n",
      "   MSE: 0.9890\n",
      "   RMSE: 0.9945\n",
      "   MAE: 0.7622\n",
      "support Vector Regression:\n",
      "   R^2 Score: 0.3900\n",
      "   MSE: 0.6024\n",
      "   RMSE: 0.7761\n",
      "   MAE: 0.5832\n",
      "Decision Tree Regression:\n",
      "   R^2 Score: 0.1080\n",
      "   MSE: 0.8809\n",
      "   RMSE: 0.9386\n",
      "   MAE: 0.5496\n",
      "Random Forest Regression:\n",
      "   R^2 Score: 0.5511\n",
      "   MSE: 0.4433\n",
      "   RMSE: 0.6658\n",
      "   MAE: 0.4745\n"
     ]
    }
   ],
   "source": [
    "# White wine\n",
    "w_models = {\n",
    "    \"Linear Regression\": LinearRegression(),\n",
    "    \"Ridge Regression\": Ridge(),\n",
    "    \"Lasso Regression\": Lasso(),\n",
    "    \"support Vector Regression\": SVR(),\n",
    "    \"Decision Tree Regression\": DecisionTreeRegressor(),\n",
    "    \"Random Forest Regression\": RandomForestRegressor()\n",
    "}\n",
    "\n",
    "def evaluate_model(model, features, target):\n",
    "    predictions = model.predict(features)\n",
    "    mse = mean_squared_error(target, predictions)\n",
    "    rmse = mse ** 0.5\n",
    "    mae = mean_absolute_error(target, predictions)\n",
    "    r2 = r2_score(target, predictions)\n",
    "    return mse, rmse, mae, r2\n",
    "\n",
    "for name, model in w_models.items():\n",
    "    model.fit(X_trainw, y_trainw)\n",
    "    mse, rmse, mae, r2 = evaluate_model(model, X_testw, y_testw)\n",
    "    \n",
    "    print(f\"{name}:\")\n",
    "    print(f\"   R^2 Score: {r2:.4f}\")\n",
    "    print(f\"   MSE: {mse:.4f}\")\n",
    "    print(f\"   RMSE: {rmse:.4f}\")\n",
    "    print(f\"   MAE: {mae:.4f}\")"
   ]
  },
  {
   "cell_type": "markdown",
   "id": "32951a47-7cf9-4339-a54b-72b3234e38e2",
   "metadata": {},
   "source": [
    "<span style=\"font-size: 30px; color: green\">Model Tuning</span>"
   ]
  },
  {
   "cell_type": "code",
   "execution_count": null,
   "id": "9fa7c251-5ef1-42e7-b770-44af5a0efb82",
   "metadata": {},
   "outputs": [],
   "source": [
    "# Random Forest Regression\n"
   ]
  },
  {
   "cell_type": "markdown",
   "id": "ea76fc0b-4c60-4e5f-b69c-3b0b99d2f013",
   "metadata": {},
   "source": [
    "<span style=\"font-size: 30px; color: green\">Saving the model</span>"
   ]
  },
  {
   "cell_type": "code",
   "execution_count": null,
   "id": "9f3c690d-adb9-462d-9213-ea84cf4fd10c",
   "metadata": {},
   "outputs": [],
   "source": []
  }
 ],
 "metadata": {
  "kernelspec": {
   "display_name": "Python 3 (ipykernel)",
   "language": "python",
   "name": "python3"
  },
  "language_info": {
   "codemirror_mode": {
    "name": "ipython",
    "version": 3
   },
   "file_extension": ".py",
   "mimetype": "text/x-python",
   "name": "python",
   "nbconvert_exporter": "python",
   "pygments_lexer": "ipython3",
   "version": "3.8.10"
  }
 },
 "nbformat": 4,
 "nbformat_minor": 5
}
