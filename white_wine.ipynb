{
 "cells": [
  {
   "cell_type": "markdown",
   "id": "91acfdad-cef7-4f9f-a6f2-f893b0598201",
   "metadata": {},
   "source": [
    "<span style=\"font-size: 40px; color: red\">White Wine Quality Prediction using regression model</span>\n",
    "\n",
    "<span style=\"font-size: 40px; color: orange\">Objective:</span>\n",
    "* Develop a machine learning model that predicts the quality of wine based on its chemical attributes.\n"
   ]
  },
  {
   "cell_type": "code",
   "execution_count": null,
   "id": "6d82c1da-51c3-40ee-a10b-498e0cce29f6",
   "metadata": {},
   "outputs": [],
   "source": []
  },
  {
   "cell_type": "markdown",
   "id": "8ceef89a-d1ae-4bbf-b0d4-85b7c073cded",
   "metadata": {},
   "source": [
    "<span style=\"font-size: 30px; color: green\">Import Libraries</span>"
   ]
  },
  {
   "cell_type": "code",
   "execution_count": 1,
   "id": "52417662-cba7-4229-a729-6a305552df79",
   "metadata": {},
   "outputs": [],
   "source": [
    "import pandas as pd\n",
    "import numpy as np\n",
    "from sklearn.preprocessing import StandardScaler\n",
    "from sklearn.model_selection import train_test_split, GridSearchCV, RandomizedSearchCV\n",
    "from sklearn.linear_model import LinearRegression, Lasso, Ridge\n",
    "from sklearn.svm import SVR\n",
    "from sklearn.tree import DecisionTreeRegressor\n",
    "from sklearn.ensemble import RandomForestRegressor\n",
    "from sklearn.metrics import mean_squared_error, mean_absolute_error, r2_score, accuracy_score\n",
    "from sklearn.feature_selection import RFECV\n",
    "\n",
    "import joblib"
   ]
  },
  {
   "cell_type": "code",
   "execution_count": null,
   "id": "32bf44d8-b395-4594-bf49-3f24e5ea0323",
   "metadata": {},
   "outputs": [],
   "source": []
  },
  {
   "cell_type": "markdown",
   "id": "f271ed0f-5a0d-40ca-93ec-eabef031adef",
   "metadata": {},
   "source": [
    "<span style=\"font-size: 30px; color: green\">Load the Dataset</span>"
   ]
  },
  {
   "cell_type": "code",
   "execution_count": 2,
   "id": "b0de3779-61c3-4942-afca-6abb3714d248",
   "metadata": {},
   "outputs": [],
   "source": [
    "data = pd.read_csv(\"winequality-white.csv\", sep=\";\")"
   ]
  },
  {
   "cell_type": "code",
   "execution_count": null,
   "id": "ced9c40f-c73e-4e06-9803-73abad4cffb6",
   "metadata": {},
   "outputs": [],
   "source": []
  },
  {
   "cell_type": "markdown",
   "id": "c2fc1ad2-b495-4989-92d7-1b8ae47921d3",
   "metadata": {},
   "source": [
    "<span style=\"font-size: 30px; color: green\">Data Preprocessing</span>"
   ]
  },
  {
   "cell_type": "markdown",
   "id": "e1216107-3ffb-4b5b-9dd4-8ebfb41a1201",
   "metadata": {},
   "source": [
    "<span style=\"font-size: 20px; color: blue\">Handling Missing data</span>"
   ]
  },
  {
   "cell_type": "code",
   "execution_count": 3,
   "id": "265c2f5d-3c6f-4d40-89f8-30cc0d1ffde6",
   "metadata": {},
   "outputs": [
    {
     "name": "stdout",
     "output_type": "stream",
     "text": [
      "<class 'pandas.core.frame.DataFrame'>\n",
      "RangeIndex: 4898 entries, 0 to 4897\n",
      "Data columns (total 12 columns):\n",
      " #   Column                Non-Null Count  Dtype  \n",
      "---  ------                --------------  -----  \n",
      " 0   fixed acidity         4898 non-null   float64\n",
      " 1   volatile acidity      4898 non-null   float64\n",
      " 2   citric acid           4898 non-null   float64\n",
      " 3   residual sugar        4898 non-null   float64\n",
      " 4   chlorides             4898 non-null   float64\n",
      " 5   free sulfur dioxide   4898 non-null   float64\n",
      " 6   total sulfur dioxide  4898 non-null   float64\n",
      " 7   density               4898 non-null   float64\n",
      " 8   pH                    4898 non-null   float64\n",
      " 9   sulphates             4898 non-null   float64\n",
      " 10  alcohol               4898 non-null   float64\n",
      " 11  quality               4898 non-null   int64  \n",
      "dtypes: float64(11), int64(1)\n",
      "memory usage: 459.3 KB\n"
     ]
    }
   ],
   "source": [
    "data.info()"
   ]
  },
  {
   "cell_type": "code",
   "execution_count": null,
   "id": "c161ac63-8871-4e9e-ba73-27985eaaf05b",
   "metadata": {},
   "outputs": [],
   "source": []
  },
  {
   "cell_type": "markdown",
   "id": "c9d8cabd-7e41-410c-88ad-a206192fa641",
   "metadata": {},
   "source": [
    "<span style=\"font-size: 20px; color: blue\">Feature Scaling</span>"
   ]
  },
  {
   "cell_type": "code",
   "execution_count": 4,
   "id": "a4f7a42f-ccb2-488d-9517-59145c74c790",
   "metadata": {},
   "outputs": [],
   "source": [
    "scaler = StandardScaler()\n",
    "\n",
    "data = pd.DataFrame(scaler.fit_transform(data), columns=data.columns)"
   ]
  },
  {
   "cell_type": "code",
   "execution_count": 5,
   "id": "b4253cd3-1894-4e3b-9680-35f7fd59f13d",
   "metadata": {},
   "outputs": [
    {
     "data": {
      "text/html": [
       "<div>\n",
       "<style scoped>\n",
       "    .dataframe tbody tr th:only-of-type {\n",
       "        vertical-align: middle;\n",
       "    }\n",
       "\n",
       "    .dataframe tbody tr th {\n",
       "        vertical-align: top;\n",
       "    }\n",
       "\n",
       "    .dataframe thead th {\n",
       "        text-align: right;\n",
       "    }\n",
       "</style>\n",
       "<table border=\"1\" class=\"dataframe\">\n",
       "  <thead>\n",
       "    <tr style=\"text-align: right;\">\n",
       "      <th></th>\n",
       "      <th>fixed acidity</th>\n",
       "      <th>volatile acidity</th>\n",
       "      <th>citric acid</th>\n",
       "      <th>residual sugar</th>\n",
       "      <th>chlorides</th>\n",
       "      <th>free sulfur dioxide</th>\n",
       "      <th>total sulfur dioxide</th>\n",
       "      <th>density</th>\n",
       "      <th>pH</th>\n",
       "      <th>sulphates</th>\n",
       "      <th>alcohol</th>\n",
       "      <th>quality</th>\n",
       "    </tr>\n",
       "  </thead>\n",
       "  <tbody>\n",
       "    <tr>\n",
       "      <th>0</th>\n",
       "      <td>0.172097</td>\n",
       "      <td>-0.081770</td>\n",
       "      <td>0.213280</td>\n",
       "      <td>2.821349</td>\n",
       "      <td>-0.035355</td>\n",
       "      <td>0.569932</td>\n",
       "      <td>0.744565</td>\n",
       "      <td>2.331512</td>\n",
       "      <td>-1.246921</td>\n",
       "      <td>-0.349184</td>\n",
       "      <td>-1.393152</td>\n",
       "      <td>0.13787</td>\n",
       "    </tr>\n",
       "    <tr>\n",
       "      <th>1</th>\n",
       "      <td>-0.657501</td>\n",
       "      <td>0.215896</td>\n",
       "      <td>0.048001</td>\n",
       "      <td>-0.944765</td>\n",
       "      <td>0.147747</td>\n",
       "      <td>-1.253019</td>\n",
       "      <td>-0.149685</td>\n",
       "      <td>-0.009154</td>\n",
       "      <td>0.740029</td>\n",
       "      <td>0.001342</td>\n",
       "      <td>-0.824276</td>\n",
       "      <td>0.13787</td>\n",
       "    </tr>\n",
       "    <tr>\n",
       "      <th>2</th>\n",
       "      <td>1.475751</td>\n",
       "      <td>0.017452</td>\n",
       "      <td>0.543838</td>\n",
       "      <td>0.100282</td>\n",
       "      <td>0.193523</td>\n",
       "      <td>-0.312141</td>\n",
       "      <td>-0.973336</td>\n",
       "      <td>0.358665</td>\n",
       "      <td>0.475102</td>\n",
       "      <td>-0.436816</td>\n",
       "      <td>-0.336667</td>\n",
       "      <td>0.13787</td>\n",
       "    </tr>\n",
       "    <tr>\n",
       "      <th>3</th>\n",
       "      <td>0.409125</td>\n",
       "      <td>-0.478657</td>\n",
       "      <td>-0.117278</td>\n",
       "      <td>0.415768</td>\n",
       "      <td>0.559727</td>\n",
       "      <td>0.687541</td>\n",
       "      <td>1.121091</td>\n",
       "      <td>0.525855</td>\n",
       "      <td>0.011480</td>\n",
       "      <td>-0.787342</td>\n",
       "      <td>-0.499203</td>\n",
       "      <td>0.13787</td>\n",
       "    </tr>\n",
       "    <tr>\n",
       "      <th>4</th>\n",
       "      <td>0.409125</td>\n",
       "      <td>-0.478657</td>\n",
       "      <td>-0.117278</td>\n",
       "      <td>0.415768</td>\n",
       "      <td>0.559727</td>\n",
       "      <td>0.687541</td>\n",
       "      <td>1.121091</td>\n",
       "      <td>0.525855</td>\n",
       "      <td>0.011480</td>\n",
       "      <td>-0.787342</td>\n",
       "      <td>-0.499203</td>\n",
       "      <td>0.13787</td>\n",
       "    </tr>\n",
       "  </tbody>\n",
       "</table>\n",
       "</div>"
      ],
      "text/plain": [
       "   fixed acidity  volatile acidity  citric acid  residual sugar  chlorides  \\\n",
       "0       0.172097         -0.081770     0.213280        2.821349  -0.035355   \n",
       "1      -0.657501          0.215896     0.048001       -0.944765   0.147747   \n",
       "2       1.475751          0.017452     0.543838        0.100282   0.193523   \n",
       "3       0.409125         -0.478657    -0.117278        0.415768   0.559727   \n",
       "4       0.409125         -0.478657    -0.117278        0.415768   0.559727   \n",
       "\n",
       "   free sulfur dioxide  total sulfur dioxide   density        pH  sulphates  \\\n",
       "0             0.569932              0.744565  2.331512 -1.246921  -0.349184   \n",
       "1            -1.253019             -0.149685 -0.009154  0.740029   0.001342   \n",
       "2            -0.312141             -0.973336  0.358665  0.475102  -0.436816   \n",
       "3             0.687541              1.121091  0.525855  0.011480  -0.787342   \n",
       "4             0.687541              1.121091  0.525855  0.011480  -0.787342   \n",
       "\n",
       "    alcohol  quality  \n",
       "0 -1.393152  0.13787  \n",
       "1 -0.824276  0.13787  \n",
       "2 -0.336667  0.13787  \n",
       "3 -0.499203  0.13787  \n",
       "4 -0.499203  0.13787  "
      ]
     },
     "execution_count": 5,
     "metadata": {},
     "output_type": "execute_result"
    }
   ],
   "source": [
    "data.head()"
   ]
  },
  {
   "cell_type": "code",
   "execution_count": null,
   "id": "6dc017b5-fa84-40be-bcb2-457e6aa4b9ef",
   "metadata": {},
   "outputs": [],
   "source": []
  },
  {
   "cell_type": "markdown",
   "id": "732d4c60-6928-4501-9bdd-0f159946b1ff",
   "metadata": {},
   "source": [
    "<span style=\"font-size: 30px; color: green\">Data Splitting</span>"
   ]
  },
  {
   "cell_type": "code",
   "execution_count": 6,
   "id": "6217b7e2-f459-4ccf-94f6-58833f6ca808",
   "metadata": {},
   "outputs": [],
   "source": [
    "X = data.drop([\"quality\"], axis=1)\n",
    "y = data[\"quality\"]\n",
    "X_train, X_test, y_train, y_test = train_test_split(X, y, test_size=0.2, random_state=42)"
   ]
  },
  {
   "cell_type": "code",
   "execution_count": null,
   "id": "5a5d2ddd-2bc2-4dd6-a93f-061fb62a608c",
   "metadata": {},
   "outputs": [],
   "source": []
  },
  {
   "cell_type": "markdown",
   "id": "fb8f89c8-e27d-44ba-8dce-f6ca422ba0ad",
   "metadata": {},
   "source": [
    "<span style=\"font-size: 30px; color: green\">Model Training</span>"
   ]
  },
  {
   "cell_type": "code",
   "execution_count": 7,
   "id": "9cfb618f-e7f2-4c17-b38b-1ad79bc6de2f",
   "metadata": {},
   "outputs": [
    {
     "name": "stdout",
     "output_type": "stream",
     "text": [
      "Linear Regression:\n",
      "   R^2 Score: 0.2653\n",
      "   MSE: 0.7256\n",
      "   RMSE: 0.8518\n",
      "   MAE: 0.6620\n",
      "Ridge Regression:\n",
      "   R^2 Score: 0.2652\n",
      "   MSE: 0.7257\n",
      "   RMSE: 0.8519\n",
      "   MAE: 0.6621\n",
      "Lasso Regression:\n",
      "   R^2 Score: -0.0014\n",
      "   MSE: 0.9890\n",
      "   RMSE: 0.9945\n",
      "   MAE: 0.7622\n",
      "support Vector Regression:\n",
      "   R^2 Score: 0.3900\n",
      "   MSE: 0.6024\n",
      "   RMSE: 0.7761\n",
      "   MAE: 0.5832\n",
      "Decision Tree Regression:\n",
      "   R^2 Score: 0.0777\n",
      "   MSE: 0.9109\n",
      "   RMSE: 0.9544\n",
      "   MAE: 0.5646\n",
      "Random Forest Regression:\n",
      "   R^2 Score: 0.5563\n",
      "   MSE: 0.4382\n",
      "   RMSE: 0.6620\n",
      "   MAE: 0.4695\n"
     ]
    }
   ],
   "source": [
    "models = {\n",
    "    \"Linear Regression\": LinearRegression(),\n",
    "    \"Ridge Regression\": Ridge(),\n",
    "    \"Lasso Regression\": Lasso(),\n",
    "    \"support Vector Regression\": SVR(),\n",
    "    \"Decision Tree Regression\": DecisionTreeRegressor(),\n",
    "    \"Random Forest Regression\": RandomForestRegressor()\n",
    "}\n",
    "\n",
    "def evaluate_model(model, features, target):\n",
    "    predictions = model.predict(features)\n",
    "    mse = mean_squared_error(target, predictions)\n",
    "    rmse = mse ** 0.5\n",
    "    mae = mean_absolute_error(target, predictions)\n",
    "    r2 = r2_score(target, predictions)\n",
    "    return mse, rmse, mae, r2\n",
    "\n",
    "for name, model in models.items():\n",
    "    model.fit(X_train, y_train)\n",
    "    mse, rmse, mae, r2 = evaluate_model(model, X_test, y_test)\n",
    "    \n",
    "    print(f\"{name}:\")\n",
    "    print(f\"   R^2 Score: {r2:.4f}\")\n",
    "    print(f\"   MSE: {mse:.4f}\")\n",
    "    print(f\"   RMSE: {rmse:.4f}\")\n",
    "    print(f\"   MAE: {mae:.4f}\")"
   ]
  },
  {
   "cell_type": "code",
   "execution_count": null,
   "id": "f082b3f6-72dd-450b-9bda-19edb762a554",
   "metadata": {},
   "outputs": [],
   "source": []
  },
  {
   "cell_type": "markdown",
   "id": "acbf9ff1-5138-4d2d-9203-e59a5ab833ad",
   "metadata": {},
   "source": [
    "<span style=\"font-size: 30px; color: green\">Model Tuning</span>"
   ]
  },
  {
   "cell_type": "code",
   "execution_count": 8,
   "id": "3449d095-b803-49df-a915-480c00d95dbd",
   "metadata": {},
   "outputs": [
    {
     "name": "stdout",
     "output_type": "stream",
     "text": [
      "Best Hyperparameters: {'max_depth': 20, 'min_samples_leaf': 1, 'min_samples_split': 2, 'n_estimators': 300}\n",
      "Best Model R^2 Score: 0.5583264520980464\n"
     ]
    }
   ],
   "source": [
    "param_grid = {\n",
    "    'n_estimators': [100, 200, 300],\n",
    "    'max_depth': [None, 10, 20],\n",
    "    'min_samples_split': [2, 5, 10],\n",
    "    'min_samples_leaf': [1, 2, 4]\n",
    "}\n",
    "\n",
    "# Create the Random Forest Regressor\n",
    "rf_model = RandomForestRegressor()\n",
    "\n",
    "# Grid search\n",
    "grid_search = GridSearchCV(estimator=rf_model, param_grid=param_grid, cv=5, scoring='neg_mean_squared_error')\n",
    "grid_search.fit(X_train, y_train)\n",
    "\n",
    "# Print the best hyperparameters\n",
    "print(\"Best Hyperparameters:\", grid_search.best_params_)\n",
    "\n",
    "# Evaluate the best model\n",
    "best_rf_model = grid_search.best_estimator_\n",
    "best_rf_model_score = best_rf_model.score(X_test, y_test)\n",
    "print(\"Best Model R^2 Score:\", best_rf_model_score)"
   ]
  },
  {
   "cell_type": "code",
   "execution_count": null,
   "id": "edb326ce-69b3-4c32-bb0c-5a8c96368d4b",
   "metadata": {},
   "outputs": [],
   "source": []
  },
  {
   "cell_type": "markdown",
   "id": "e69f2a6e-152e-41a0-a0d5-ba739d4ae221",
   "metadata": {},
   "source": [
    "<span style=\"font-size: 30px; color: green\">Model Evaluation</span>"
   ]
  },
  {
   "cell_type": "code",
   "execution_count": 9,
   "id": "bd4c535f-03e0-4066-9596-6e99d203a40f",
   "metadata": {},
   "outputs": [
    {
     "name": "stdout",
     "output_type": "stream",
     "text": [
      "Mean Absolute Error: 0.4737882718192688\n",
      "Mean Squared Error: 0.44034798959644994\n",
      "Root Mean Squared Error: 0.663587213255688\n",
      "R-squared: 0.5541240662030628\n"
     ]
    }
   ],
   "source": [
    "best_model = RandomForestRegressor(n_estimators=300, min_samples_split=2, min_samples_leaf=1, max_depth=20)\n",
    "\n",
    "# Fit the model\n",
    "best_model.fit(X_train, y_train)\n",
    "\n",
    "# Make predictions on the test set\n",
    "y_pred = best_model.predict(X_test)\n",
    "\n",
    "# Calculate evaluation scores\n",
    "mae = mean_absolute_error(y_test, y_pred)\n",
    "mse = mean_squared_error(y_test, y_pred)\n",
    "rmse = np.sqrt(mse)\n",
    "r2 = r2_score(y_test, y_pred)\n",
    "\n",
    "print(\"Mean Absolute Error:\", mae)\n",
    "print(\"Mean Squared Error:\", mse)\n",
    "print(\"Root Mean Squared Error:\", rmse)\n",
    "print(\"R-squared:\", r2)"
   ]
  },
  {
   "cell_type": "code",
   "execution_count": null,
   "id": "aa9d8b0f-dbd8-4c79-be87-cdfabf51479d",
   "metadata": {},
   "outputs": [],
   "source": []
  },
  {
   "cell_type": "markdown",
   "id": "88f12ff6-3adf-4ceb-80cd-77371fb6b73f",
   "metadata": {},
   "source": [
    "<span style=\"font-size: 30px; color: green\">Saving the model</span>"
   ]
  },
  {
   "cell_type": "code",
   "execution_count": 10,
   "id": "81416aef-a0a1-4e28-980c-655d18e3d179",
   "metadata": {},
   "outputs": [
    {
     "data": {
      "text/plain": [
       "['white_best_model.pkl']"
      ]
     },
     "execution_count": 10,
     "metadata": {},
     "output_type": "execute_result"
    }
   ],
   "source": [
    "joblib.dump(best_model, \"white_best_model.pkl\")"
   ]
  },
  {
   "cell_type": "code",
   "execution_count": null,
   "id": "0a36ba6a-bd33-4414-b466-26325cec3a52",
   "metadata": {},
   "outputs": [],
   "source": []
  }
 ],
 "metadata": {
  "kernelspec": {
   "display_name": "Python 3 (ipykernel)",
   "language": "python",
   "name": "python3"
  },
  "language_info": {
   "codemirror_mode": {
    "name": "ipython",
    "version": 3
   },
   "file_extension": ".py",
   "mimetype": "text/x-python",
   "name": "python",
   "nbconvert_exporter": "python",
   "pygments_lexer": "ipython3",
   "version": "3.8.10"
  }
 },
 "nbformat": 4,
 "nbformat_minor": 5
}
