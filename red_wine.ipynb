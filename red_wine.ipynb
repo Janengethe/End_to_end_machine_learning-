{
 "cells": [
  {
   "cell_type": "markdown",
   "id": "6b5c3aaf-c701-47d5-8ec1-ddfbeed802c6",
   "metadata": {},
   "source": [
    "<span style=\"font-size: 40px; color: red\">Red Wine Quality Prediction using regression model</span>\n",
    "\n",
    "<span style=\"font-size: 40px; color: orange\">Objective:</span>\n",
    "* Develop a machine learning model that predicts the quality of wine based on its chemical attributes.\n"
   ]
  },
  {
   "cell_type": "code",
   "execution_count": null,
   "id": "043b3584-4dfb-42f2-b74e-d2f782b2760e",
   "metadata": {},
   "outputs": [],
   "source": []
  },
  {
   "cell_type": "markdown",
   "id": "e6c6e4ac-c200-482e-8300-6e62485a94d1",
   "metadata": {},
   "source": [
    "<span style=\"font-size: 30px; color: green\">Import Libraries</span>"
   ]
  },
  {
   "cell_type": "code",
   "execution_count": 1,
   "id": "9cc35f4f-1a02-4be9-a392-25eb4b5c2279",
   "metadata": {},
   "outputs": [],
   "source": [
    "import pandas as pd\n",
    "import numpy as np\n",
    "from sklearn.preprocessing import StandardScaler\n",
    "from sklearn.model_selection import train_test_split, GridSearchCV, RandomizedSearchCV\n",
    "from sklearn.linear_model import LinearRegression, Lasso, Ridge\n",
    "from sklearn.svm import SVR\n",
    "from sklearn.tree import DecisionTreeRegressor\n",
    "from sklearn.ensemble import RandomForestRegressor\n",
    "from sklearn.metrics import mean_squared_error, mean_absolute_error, r2_score, accuracy_score\n",
    "from sklearn.feature_selection import RFECV\n",
    "\n",
    "import joblib"
   ]
  },
  {
   "cell_type": "code",
   "execution_count": null,
   "id": "1dac32e1-0aec-40c7-aee9-b804ed6babfe",
   "metadata": {},
   "outputs": [],
   "source": []
  },
  {
   "cell_type": "markdown",
   "id": "a8179ab7-200c-440e-9950-96dd9ff85e18",
   "metadata": {},
   "source": [
    "<span style=\"font-size: 30px; color: green\">Load the Dataset</span>"
   ]
  },
  {
   "cell_type": "code",
   "execution_count": 2,
   "id": "707cb8ce-3f47-4f8d-a9f2-0ae26d8d30d7",
   "metadata": {},
   "outputs": [],
   "source": [
    "data = pd.read_csv(\"winequality-red.csv\", sep=\";\")"
   ]
  },
  {
   "cell_type": "code",
   "execution_count": 3,
   "id": "f0923278-1256-40c6-bd47-9f6d39b28e94",
   "metadata": {},
   "outputs": [],
   "source": [
    "# Remove spaces and rename columns\n",
    "data.columns = data.columns.str.replace(' ', '_')"
   ]
  },
  {
   "cell_type": "code",
   "execution_count": null,
   "id": "ec9ddc69-b3d2-4cd4-9194-ac1b47408ae5",
   "metadata": {},
   "outputs": [],
   "source": []
  },
  {
   "cell_type": "code",
   "execution_count": 4,
   "id": "59b3419e-a68c-405d-82ae-3c73ae257f65",
   "metadata": {},
   "outputs": [
    {
     "data": {
      "text/plain": [
       "Index(['fixed_acidity', 'volatile_acidity', 'citric_acid', 'residual_sugar',\n",
       "       'chlorides', 'free_sulfur_dioxide', 'total_sulfur_dioxide', 'density',\n",
       "       'pH', 'sulphates', 'alcohol', 'quality'],\n",
       "      dtype='object')"
      ]
     },
     "execution_count": 4,
     "metadata": {},
     "output_type": "execute_result"
    }
   ],
   "source": [
    "data.columns"
   ]
  },
  {
   "cell_type": "code",
   "execution_count": 6,
   "id": "20e1b624-4b88-402b-8a44-a3f2235d6a7e",
   "metadata": {},
   "outputs": [
    {
     "data": {
      "text/plain": [
       "fixed_acidity           4.60000\n",
       "volatile_acidity        0.12000\n",
       "citric_acid             0.00000\n",
       "residual_sugar          0.90000\n",
       "chlorides               0.01200\n",
       "free_sulfur_dioxide     1.00000\n",
       "total_sulfur_dioxide    6.00000\n",
       "density                 0.99007\n",
       "pH                      2.74000\n",
       "sulphates               0.33000\n",
       "alcohol                 8.40000\n",
       "quality                 3.00000\n",
       "dtype: float64"
      ]
     },
     "execution_count": 6,
     "metadata": {},
     "output_type": "execute_result"
    }
   ],
   "source": [
    "data.min()"
   ]
  },
  {
   "cell_type": "code",
   "execution_count": 7,
   "id": "b5aaf9ad-6cf3-4837-9aca-14d40b24c277",
   "metadata": {},
   "outputs": [
    {
     "data": {
      "text/plain": [
       "fixed_acidity            15.90000\n",
       "volatile_acidity          1.58000\n",
       "citric_acid               1.00000\n",
       "residual_sugar           15.50000\n",
       "chlorides                 0.61100\n",
       "free_sulfur_dioxide      72.00000\n",
       "total_sulfur_dioxide    289.00000\n",
       "density                   1.00369\n",
       "pH                        4.01000\n",
       "sulphates                 2.00000\n",
       "alcohol                  14.90000\n",
       "quality                   8.00000\n",
       "dtype: float64"
      ]
     },
     "execution_count": 7,
     "metadata": {},
     "output_type": "execute_result"
    }
   ],
   "source": [
    "data.max()"
   ]
  },
  {
   "cell_type": "markdown",
   "id": "a4935330-3d7e-4dbb-a071-260b38e7eec0",
   "metadata": {},
   "source": [
    "<span style=\"font-size: 30px; color: green\">Data Preprocessing</span>"
   ]
  },
  {
   "cell_type": "markdown",
   "id": "db7254e8-16ca-46f4-852f-3a8dab9fc94c",
   "metadata": {},
   "source": [
    "<span style=\"font-size: 20px; color: blue\">Handling Missing data</span>"
   ]
  },
  {
   "cell_type": "code",
   "execution_count": 5,
   "id": "fe9a0fab-39e2-4116-a045-25556bec6d8c",
   "metadata": {},
   "outputs": [
    {
     "name": "stdout",
     "output_type": "stream",
     "text": [
      "<class 'pandas.core.frame.DataFrame'>\n",
      "RangeIndex: 1599 entries, 0 to 1598\n",
      "Data columns (total 12 columns):\n",
      " #   Column                Non-Null Count  Dtype  \n",
      "---  ------                --------------  -----  \n",
      " 0   fixed_acidity         1599 non-null   float64\n",
      " 1   volatile_acidity      1599 non-null   float64\n",
      " 2   citric_acid           1599 non-null   float64\n",
      " 3   residual_sugar        1599 non-null   float64\n",
      " 4   chlorides             1599 non-null   float64\n",
      " 5   free_sulfur_dioxide   1599 non-null   float64\n",
      " 6   total_sulfur_dioxide  1599 non-null   float64\n",
      " 7   density               1599 non-null   float64\n",
      " 8   pH                    1599 non-null   float64\n",
      " 9   sulphates             1599 non-null   float64\n",
      " 10  alcohol               1599 non-null   float64\n",
      " 11  quality               1599 non-null   int64  \n",
      "dtypes: float64(11), int64(1)\n",
      "memory usage: 150.0 KB\n"
     ]
    }
   ],
   "source": [
    "data.info()"
   ]
  },
  {
   "cell_type": "code",
   "execution_count": 8,
   "id": "375d8000-59a0-4fcd-a102-ce78f7207199",
   "metadata": {},
   "outputs": [
    {
     "name": "stdout",
     "output_type": "stream",
     "text": [
      "<class 'pandas.core.frame.DataFrame'>\n",
      "RangeIndex: 1599 entries, 0 to 1598\n",
      "Data columns (total 12 columns):\n",
      " #   Column                Non-Null Count  Dtype  \n",
      "---  ------                --------------  -----  \n",
      " 0   fixed_acidity         1599 non-null   float64\n",
      " 1   volatile_acidity      1599 non-null   float64\n",
      " 2   citric_acid           1599 non-null   float64\n",
      " 3   residual_sugar        1599 non-null   float64\n",
      " 4   chlorides             1599 non-null   float64\n",
      " 5   free_sulfur_dioxide   1599 non-null   float64\n",
      " 6   total_sulfur_dioxide  1599 non-null   float64\n",
      " 7   density               1599 non-null   float64\n",
      " 8   pH                    1599 non-null   float64\n",
      " 9   sulphates             1599 non-null   float64\n",
      " 10  alcohol               1599 non-null   float64\n",
      " 11  quality               1599 non-null   int64  \n",
      "dtypes: float64(11), int64(1)\n",
      "memory usage: 150.0 KB\n"
     ]
    }
   ],
   "source": [
    "data.info()"
   ]
  },
  {
   "cell_type": "markdown",
   "id": "4c9448bb-f6bb-4b75-8795-93b9ec353402",
   "metadata": {},
   "source": [
    "<span style=\"font-size: 20px; color: blue\">Feature Scaling</span>"
   ]
  },
  {
   "cell_type": "code",
   "execution_count": 6,
   "id": "4c9e5b30-7ca3-422b-9856-b136d1104aac",
   "metadata": {},
   "outputs": [],
   "source": [
    "scaler = StandardScaler()\n",
    "\n",
    "data = pd.DataFrame(scaler.fit_transform(data), columns=data.columns)"
   ]
  },
  {
   "cell_type": "code",
   "execution_count": 7,
   "id": "8fda5e63-d7e4-43c6-a13d-6ee33c8d0cf5",
   "metadata": {},
   "outputs": [
    {
     "data": {
      "text/html": [
       "<div>\n",
       "<style scoped>\n",
       "    .dataframe tbody tr th:only-of-type {\n",
       "        vertical-align: middle;\n",
       "    }\n",
       "\n",
       "    .dataframe tbody tr th {\n",
       "        vertical-align: top;\n",
       "    }\n",
       "\n",
       "    .dataframe thead th {\n",
       "        text-align: right;\n",
       "    }\n",
       "</style>\n",
       "<table border=\"1\" class=\"dataframe\">\n",
       "  <thead>\n",
       "    <tr style=\"text-align: right;\">\n",
       "      <th></th>\n",
       "      <th>fixed_acidity</th>\n",
       "      <th>volatile_acidity</th>\n",
       "      <th>citric_acid</th>\n",
       "      <th>residual_sugar</th>\n",
       "      <th>chlorides</th>\n",
       "      <th>free_sulfur_dioxide</th>\n",
       "      <th>total_sulfur_dioxide</th>\n",
       "      <th>density</th>\n",
       "      <th>pH</th>\n",
       "      <th>sulphates</th>\n",
       "      <th>alcohol</th>\n",
       "      <th>quality</th>\n",
       "    </tr>\n",
       "  </thead>\n",
       "  <tbody>\n",
       "    <tr>\n",
       "      <th>0</th>\n",
       "      <td>-0.528360</td>\n",
       "      <td>0.961877</td>\n",
       "      <td>-1.391472</td>\n",
       "      <td>-0.453218</td>\n",
       "      <td>-0.243707</td>\n",
       "      <td>-0.466193</td>\n",
       "      <td>-0.379133</td>\n",
       "      <td>0.558274</td>\n",
       "      <td>1.288643</td>\n",
       "      <td>-0.579207</td>\n",
       "      <td>-0.960246</td>\n",
       "      <td>-0.787823</td>\n",
       "    </tr>\n",
       "    <tr>\n",
       "      <th>1</th>\n",
       "      <td>-0.298547</td>\n",
       "      <td>1.967442</td>\n",
       "      <td>-1.391472</td>\n",
       "      <td>0.043416</td>\n",
       "      <td>0.223875</td>\n",
       "      <td>0.872638</td>\n",
       "      <td>0.624363</td>\n",
       "      <td>0.028261</td>\n",
       "      <td>-0.719933</td>\n",
       "      <td>0.128950</td>\n",
       "      <td>-0.584777</td>\n",
       "      <td>-0.787823</td>\n",
       "    </tr>\n",
       "    <tr>\n",
       "      <th>2</th>\n",
       "      <td>-0.298547</td>\n",
       "      <td>1.297065</td>\n",
       "      <td>-1.186070</td>\n",
       "      <td>-0.169427</td>\n",
       "      <td>0.096353</td>\n",
       "      <td>-0.083669</td>\n",
       "      <td>0.229047</td>\n",
       "      <td>0.134264</td>\n",
       "      <td>-0.331177</td>\n",
       "      <td>-0.048089</td>\n",
       "      <td>-0.584777</td>\n",
       "      <td>-0.787823</td>\n",
       "    </tr>\n",
       "    <tr>\n",
       "      <th>3</th>\n",
       "      <td>1.654856</td>\n",
       "      <td>-1.384443</td>\n",
       "      <td>1.484154</td>\n",
       "      <td>-0.453218</td>\n",
       "      <td>-0.264960</td>\n",
       "      <td>0.107592</td>\n",
       "      <td>0.411500</td>\n",
       "      <td>0.664277</td>\n",
       "      <td>-0.979104</td>\n",
       "      <td>-0.461180</td>\n",
       "      <td>-0.584777</td>\n",
       "      <td>0.450848</td>\n",
       "    </tr>\n",
       "    <tr>\n",
       "      <th>4</th>\n",
       "      <td>-0.528360</td>\n",
       "      <td>0.961877</td>\n",
       "      <td>-1.391472</td>\n",
       "      <td>-0.453218</td>\n",
       "      <td>-0.243707</td>\n",
       "      <td>-0.466193</td>\n",
       "      <td>-0.379133</td>\n",
       "      <td>0.558274</td>\n",
       "      <td>1.288643</td>\n",
       "      <td>-0.579207</td>\n",
       "      <td>-0.960246</td>\n",
       "      <td>-0.787823</td>\n",
       "    </tr>\n",
       "  </tbody>\n",
       "</table>\n",
       "</div>"
      ],
      "text/plain": [
       "   fixed_acidity  volatile_acidity  citric_acid  residual_sugar  chlorides  \\\n",
       "0      -0.528360          0.961877    -1.391472       -0.453218  -0.243707   \n",
       "1      -0.298547          1.967442    -1.391472        0.043416   0.223875   \n",
       "2      -0.298547          1.297065    -1.186070       -0.169427   0.096353   \n",
       "3       1.654856         -1.384443     1.484154       -0.453218  -0.264960   \n",
       "4      -0.528360          0.961877    -1.391472       -0.453218  -0.243707   \n",
       "\n",
       "   free_sulfur_dioxide  total_sulfur_dioxide   density        pH  sulphates  \\\n",
       "0            -0.466193             -0.379133  0.558274  1.288643  -0.579207   \n",
       "1             0.872638              0.624363  0.028261 -0.719933   0.128950   \n",
       "2            -0.083669              0.229047  0.134264 -0.331177  -0.048089   \n",
       "3             0.107592              0.411500  0.664277 -0.979104  -0.461180   \n",
       "4            -0.466193             -0.379133  0.558274  1.288643  -0.579207   \n",
       "\n",
       "    alcohol   quality  \n",
       "0 -0.960246 -0.787823  \n",
       "1 -0.584777 -0.787823  \n",
       "2 -0.584777 -0.787823  \n",
       "3 -0.584777  0.450848  \n",
       "4 -0.960246 -0.787823  "
      ]
     },
     "execution_count": 7,
     "metadata": {},
     "output_type": "execute_result"
    }
   ],
   "source": [
    "data.head()"
   ]
  },
  {
   "cell_type": "code",
   "execution_count": null,
   "id": "0b46df3f-d76c-48ed-899e-ccd0e6a7117a",
   "metadata": {},
   "outputs": [],
   "source": []
  },
  {
   "cell_type": "markdown",
   "id": "4e8461bf-5147-482d-97cf-8554c75c8019",
   "metadata": {},
   "source": [
    "<span style=\"font-size: 30px; color: green\">Data Splitting</span>"
   ]
  },
  {
   "cell_type": "code",
   "execution_count": 8,
   "id": "939dca33-e79a-411d-a1a0-bd11a0005f8d",
   "metadata": {},
   "outputs": [],
   "source": [
    "X = data.drop([\"quality\"], axis=1)\n",
    "y = data[\"quality\"]\n",
    "X_train, X_test, y_train, y_test = train_test_split(X, y, test_size=0.2, random_state=42)"
   ]
  },
  {
   "cell_type": "code",
   "execution_count": null,
   "id": "090fdf1b-8aa0-4433-9843-fac4f7de0573",
   "metadata": {},
   "outputs": [],
   "source": []
  },
  {
   "cell_type": "markdown",
   "id": "bdeb44c7-0fee-4a39-8fce-babb6be76469",
   "metadata": {},
   "source": [
    "<span style=\"font-size: 30px; color: green\">Model Training</span>"
   ]
  },
  {
   "cell_type": "code",
   "execution_count": 9,
   "id": "3bd34b22-a366-470f-a04d-41539767d911",
   "metadata": {},
   "outputs": [
    {
     "name": "stdout",
     "output_type": "stream",
     "text": [
      "Linear Regression:\n",
      "   R^2 Score: 0.4032\n",
      "   MSE: 0.5984\n",
      "   RMSE: 0.7736\n",
      "   MAE: 0.6237\n",
      "Ridge Regression:\n",
      "   R^2 Score: 0.4032\n",
      "   MSE: 0.5984\n",
      "   RMSE: 0.7736\n",
      "   MAE: 0.6237\n",
      "Lasso Regression:\n",
      "   R^2 Score: -0.0056\n",
      "   MSE: 1.0083\n",
      "   RMSE: 1.0041\n",
      "   MAE: 0.8488\n",
      "support Vector Regression:\n",
      "   R^2 Score: 0.4584\n",
      "   MSE: 0.5430\n",
      "   RMSE: 0.7369\n",
      "   MAE: 0.5640\n",
      "Decision Tree Regression:\n",
      "   R^2 Score: 0.0054\n",
      "   MSE: 0.9973\n",
      "   RMSE: 0.9986\n",
      "   MAE: 0.5806\n",
      "Random Forest Regression:\n",
      "   R^2 Score: 0.5182\n",
      "   MSE: 0.4831\n",
      "   RMSE: 0.6951\n",
      "   MAE: 0.5378\n"
     ]
    }
   ],
   "source": [
    "models = {\n",
    "    \"Linear Regression\": LinearRegression(),\n",
    "    \"Ridge Regression\": Ridge(),\n",
    "    \"Lasso Regression\": Lasso(),\n",
    "    \"support Vector Regression\": SVR(),\n",
    "    \"Decision Tree Regression\": DecisionTreeRegressor(),\n",
    "    \"Random Forest Regression\": RandomForestRegressor()\n",
    "}\n",
    "\n",
    "def evaluate_model(model, features, target):\n",
    "    predictions = model.predict(features)\n",
    "    mse = mean_squared_error(target, predictions)\n",
    "    rmse = mse ** 0.5\n",
    "    mae = mean_absolute_error(target, predictions)\n",
    "    r2 = r2_score(target, predictions)\n",
    "    return mse, rmse, mae, r2\n",
    "\n",
    "for name, model in models.items():\n",
    "    model.fit(X_train, y_train)\n",
    "    mse, rmse, mae, r2 = evaluate_model(model, X_test, y_test)\n",
    "    \n",
    "    print(f\"{name}:\")\n",
    "    print(f\"   R^2 Score: {r2:.4f}\")\n",
    "    print(f\"   MSE: {mse:.4f}\")\n",
    "    print(f\"   RMSE: {rmse:.4f}\")\n",
    "    print(f\"   MAE: {mae:.4f}\")\n",
    "\n",
    "# MSE closer to 0 means perfect prediction\n",
    "# MAE Closer to 0 means perfect prediction of the model\n",
    "# R Squared when score is 1, it indicates that the model's predictions perfectly match the actual values in the dataset"
   ]
  },
  {
   "cell_type": "code",
   "execution_count": null,
   "id": "1ec3a240-9ee3-4e38-995c-36c508613800",
   "metadata": {},
   "outputs": [],
   "source": []
  },
  {
   "cell_type": "markdown",
   "id": "0040018f-e8a9-4093-bb0b-6a011bf6598b",
   "metadata": {},
   "source": [
    "<span style=\"font-size: 30px; color: green\">Model Tuning</span>"
   ]
  },
  {
   "cell_type": "code",
   "execution_count": 10,
   "id": "63ce1edf-143f-4662-ad4b-3d9f330b1d89",
   "metadata": {},
   "outputs": [
    {
     "name": "stdout",
     "output_type": "stream",
     "text": [
      "Best Hyperparameters: {'max_depth': None, 'min_samples_leaf': 1, 'min_samples_split': 2, 'n_estimators': 200}\n",
      "Best Model R^2 Score: 0.5178847263109134\n"
     ]
    }
   ],
   "source": [
    "param_grid = {\n",
    "    'n_estimators': [100, 200, 300],\n",
    "    'max_depth': [None, 10, 20],\n",
    "    'min_samples_split': [2, 5, 10],\n",
    "    'min_samples_leaf': [1, 2, 4]\n",
    "}\n",
    "\n",
    "# Create the Random Forest Regressor\n",
    "rf_model = RandomForestRegressor()\n",
    "\n",
    "# Grid search\n",
    "grid_search = GridSearchCV(estimator=rf_model, param_grid=param_grid, cv=5, scoring='neg_mean_squared_error')\n",
    "grid_search.fit(X_train, y_train)\n",
    "\n",
    "# Print the best hyperparameters\n",
    "print(\"Best Hyperparameters:\", grid_search.best_params_)\n",
    "\n",
    "# Evaluate the best model\n",
    "best_rf_model = grid_search.best_estimator_\n",
    "best_rf_model_score = best_rf_model.score(X_test, y_test)\n",
    "print(\"Best Model R^2 Score:\", best_rf_model_score)"
   ]
  },
  {
   "cell_type": "code",
   "execution_count": null,
   "id": "abdc1aff-014d-4a4b-8132-750aff001c51",
   "metadata": {},
   "outputs": [],
   "source": []
  },
  {
   "cell_type": "markdown",
   "id": "f203ce98-7a89-4932-808d-7f6cd6d598ed",
   "metadata": {},
   "source": [
    "<span style=\"font-size: 30px; color: green\">Model Evaluation</span>"
   ]
  },
  {
   "cell_type": "code",
   "execution_count": 11,
   "id": "40ac9f19-5836-45bf-a429-741687dd682a",
   "metadata": {},
   "outputs": [
    {
     "name": "stdout",
     "output_type": "stream",
     "text": [
      "Mean Absolute Error: 0.5461131609013352\n",
      "Mean Squared Error: 0.49347043668225954\n",
      "Root Mean Squared Error: 0.702474509631673\n",
      "R-squared: 0.5078474759045328\n"
     ]
    }
   ],
   "source": [
    "best_model = RandomForestRegressor(n_estimators=100, min_samples_split=2, min_samples_leaf=2, max_depth=None)\n",
    "\n",
    "# Fit the model\n",
    "best_model.fit(X_train, y_train)\n",
    "\n",
    "# Make predictions on the test set\n",
    "y_pred = best_model.predict(X_test)\n",
    "\n",
    "# Calculate evaluation scores\n",
    "mae = mean_absolute_error(y_test, y_pred)\n",
    "mse = mean_squared_error(y_test, y_pred)\n",
    "rmse = np.sqrt(mse)\n",
    "r2 = r2_score(y_test, y_pred)\n",
    "\n",
    "print(\"Mean Absolute Error:\", mae)\n",
    "print(\"Mean Squared Error:\", mse)\n",
    "print(\"Root Mean Squared Error:\", rmse)\n",
    "print(\"R-squared:\", r2)"
   ]
  },
  {
   "cell_type": "code",
   "execution_count": null,
   "id": "b2220222-f841-4e0a-9b9a-dac38c05a0a7",
   "metadata": {},
   "outputs": [],
   "source": []
  },
  {
   "cell_type": "markdown",
   "id": "917f4271-ec55-4d70-afd8-30e5c6e224f8",
   "metadata": {},
   "source": [
    "<span style=\"font-size: 30px; color: green\">Saving the model</span>"
   ]
  },
  {
   "cell_type": "code",
   "execution_count": 12,
   "id": "1977ad02-d1b4-4ab6-8c23-ac7ef933b999",
   "metadata": {},
   "outputs": [
    {
     "data": {
      "text/plain": [
       "['red_best_model.pkl']"
      ]
     },
     "execution_count": 12,
     "metadata": {},
     "output_type": "execute_result"
    }
   ],
   "source": [
    "joblib.dump(best_model, \"red_best_model.pkl\")"
   ]
  },
  {
   "cell_type": "code",
   "execution_count": null,
   "id": "cf2dca7c-7620-49bc-967d-d4c6cb5bbb85",
   "metadata": {},
   "outputs": [],
   "source": []
  }
 ],
 "metadata": {
  "kernelspec": {
   "display_name": "Python 3 (ipykernel)",
   "language": "python",
   "name": "python3"
  },
  "language_info": {
   "codemirror_mode": {
    "name": "ipython",
    "version": 3
   },
   "file_extension": ".py",
   "mimetype": "text/x-python",
   "name": "python",
   "nbconvert_exporter": "python",
   "pygments_lexer": "ipython3",
   "version": "3.8.10"
  }
 },
 "nbformat": 4,
 "nbformat_minor": 5
}
